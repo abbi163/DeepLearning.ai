{
 "cells": [
  {
   "cell_type": "markdown",
   "metadata": {},
   "source": [
    "# Checking time for process calculation which vectorization and non vectorization !"
   ]
  },
  {
   "cell_type": "code",
   "execution_count": 6,
   "metadata": {},
   "outputs": [
    {
     "name": "stdout",
     "output_type": "stream",
     "text": [
      "2499185.53288\n",
      "for Vectorization : 55.043935775756836ms\n",
      "249884.073715\n",
      "for non-vectorization : 781.4109325408936ms\n"
     ]
    }
   ],
   "source": [
    "import numpy as np\n",
    "import time\n",
    "\n",
    "a = np.random.rand(10000000)\n",
    "b = np.random.rand(10000000)\n",
    "\n",
    "tic = time.time()\n",
    "c = np.dot(a,b)\n",
    "toc = time.time()\n",
    "print (c)\n",
    "print(\"for Vectorization : \" + str(1000*(toc - tic))+'ms')\n",
    "\n",
    "d = 0\n",
    "\n",
    "tick = time.time()\n",
    "for i in range(1000000):\n",
    "    d += a[i]*b[i]\n",
    "tock = time.time()\n",
    "print(d)\n",
    "print('for non-vectorization : ' + str(1000*(tock - tick)) + 'ms')\n",
    "\n"
   ]
  },
  {
   "cell_type": "markdown",
   "metadata": {},
   "source": [
    "# Conclusion\n",
    "Vectorization is much faster than looping!"
   ]
  }
 ],
 "metadata": {
  "kernelspec": {
   "display_name": "Python 3.5",
   "language": "python",
   "name": "python3"
  },
  "language_info": {
   "codemirror_mode": {
    "name": "ipython",
    "version": 3
   },
   "file_extension": ".py",
   "mimetype": "text/x-python",
   "name": "python",
   "nbconvert_exporter": "python",
   "pygments_lexer": "ipython3",
   "version": "3.5.5"
  }
 },
 "nbformat": 4,
 "nbformat_minor": 1
}
